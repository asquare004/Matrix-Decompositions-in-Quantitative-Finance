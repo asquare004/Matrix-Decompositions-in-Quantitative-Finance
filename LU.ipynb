{
 "cells": [
  {
   "cell_type": "markdown",
   "id": "0afaa4b8-016b-492b-b0b1-b742535bc2ff",
   "metadata": {},
   "source": [
    "# 📘 LU Decomposition\n",
    "\n",
    "## ✅ What is LU Decomposition?\n",
    "\n",
    "LU Decomposition is the factorization of a **square matrix** $A \\in \\mathbb{R}^{n \\times n}$ into the product:\n",
    "\n",
    "$$\n",
    "A = LU\n",
    "$$\n",
    "\n",
    "Where:\n",
    "- $L$ is a **lower triangular matrix** with ones on the diagonal  \n",
    "- $U$ is an **upper triangular matrix**\n",
    "\n",
    "## 🧪 When Does LU Decomposition Exist?\n",
    "\n",
    "- LU decomposition **without pivoting** exists if the matrix allows Gaussian elimination without row swaps  \n",
    "- LU **with pivoting** always exists, and is usually expressed as:\n",
    "\n",
    "$$\n",
    "PA = LU\n",
    "$$\n",
    "\n",
    "Where $P$ is a **permutation matrix**\n",
    "\n",
    "## 🔧 How It Works (No Pivoting)\n",
    "\n",
    "The process is based on **Gaussian elimination**:\n",
    "- Eliminate entries below the diagonal  \n",
    "- Store the multipliers in $L$  \n",
    "- The resulting upper matrix is $U$\n",
    "\n",
    "## 🧮 Example\n",
    "\n",
    "Let:\n",
    "\n",
    "$$\n",
    "A = \\begin{bmatrix}\n",
    "2 & 3 \\\\\n",
    "4 & 7\n",
    "\\end{bmatrix}\n",
    "$$\n",
    "\n",
    "We find:\n",
    "\n",
    "$$\n",
    "L = \\begin{bmatrix}\n",
    "1 & 0 \\\\\n",
    "2 & 1\n",
    "\\end{bmatrix}, \\quad\n",
    "U = \\begin{bmatrix}\n",
    "2 & 3 \\\\\n",
    "0 & 1\n",
    "\\end{bmatrix}\n",
    "$$\n",
    "\n",
    "Because:\n",
    "\n",
    "$$\n",
    "LU = \\begin{bmatrix}\n",
    "1 & 0 \\\\\n",
    "2 & 1\n",
    "\\end{bmatrix}\n",
    "\\begin{bmatrix}\n",
    "2 & 3 \\\\\n",
    "0 & 1\n",
    "\\end{bmatrix}\n",
    "=\n",
    "\\begin{bmatrix}\n",
    "2 & 3 \\\\\n",
    "4 & 7\n",
    "\\end{bmatrix} = A\n",
    "$$\n",
    "\n",
    "## 🔁 Applications in Numerical Linear Algebra\n",
    "\n",
    "- Solving systems of equations $Ax = b$:\n",
    "  - Step 1: Solve $Ly = b$\n",
    "  - Step 2: Solve $Ux = y$\n",
    "- Computing matrix inverses efficiently  \n",
    "- Determinant computation: $\\det(A) = \\det(L) \\cdot \\det(U)$  \n",
    "- Foundation for more advanced factorizations (e.g., Crout’s, Doolittle’s, pivoted LU)\n",
    "\n",
    "## ✅ Summary\n",
    "\n",
    "- LU Decomposition expresses $A = LU$ with triangular matrices  \n",
    "- Simplifies solving systems, inverses, and modeling equations  \n",
    "- Widely used in numerical analysis, optimization, and finance\n"
   ]
  },
  {
   "cell_type": "markdown",
   "id": "93e1d3da-1c08-4fe3-8694-c2e4a1218aa7",
   "metadata": {},
   "source": [
    "## Implementation from Scratch"
   ]
  },
  {
   "cell_type": "code",
   "execution_count": 4,
   "id": "46d9abec-184a-46c2-a31b-c2f64fe1b174",
   "metadata": {},
   "outputs": [],
   "source": [
    "import numpy as np\n",
    "\n",
    "def lu_decomposition(A):\n",
    "    \"\"\"\n",
    "    Performs LU Decomposition of a square matrix A without pivoting.\n",
    "    Returns L and U such that A = LU.\n",
    "    Assumes A is square and decomposition is possible without row exchanges.\n",
    "    \"\"\"\n",
    "    n = A.shape[0]\n",
    "    L = np.zeros_like(A, dtype=float)\n",
    "    U = np.zeros_like(A, dtype=float)\n",
    "\n",
    "    for i in range(n):\n",
    "        # Compute U row\n",
    "        for j in range(i, n):\n",
    "            U[i, j] = A[i, j] - sum(L[i, k] * U[k, j] for k in range(i))\n",
    "\n",
    "        # Compute L column\n",
    "        L[i, i] = 1  # unit diagonal\n",
    "        for j in range(i+1, n):\n",
    "            L[j, i] = (A[j, i] - sum(L[j, k] * U[k, i] for k in range(i))) / U[i, i]\n",
    "\n",
    "    return L, U"
   ]
  },
  {
   "cell_type": "code",
   "execution_count": 5,
   "id": "0d672257-78c2-4288-a53b-f28ec784bcb6",
   "metadata": {},
   "outputs": [],
   "source": [
    "def forward_substitution(L, b):\n",
    "    \"\"\"\n",
    "    Solves L y = b for y using forward substitution.\n",
    "    \"\"\"\n",
    "    n = L.shape[0]\n",
    "    y = np.zeros(n)\n",
    "    for i in range(n):\n",
    "        y[i] = b[i] - np.dot(L[i, :i], y[:i])\n",
    "    return y"
   ]
  },
  {
   "cell_type": "code",
   "execution_count": 6,
   "id": "2bdfa82a-fd6c-4638-bb25-21614cc638e5",
   "metadata": {},
   "outputs": [],
   "source": [
    "def backward_substitution(U, y):\n",
    "    \"\"\"\n",
    "    Solves U x = y for x using backward substitution.\n",
    "    \"\"\"\n",
    "    n = U.shape[0]\n",
    "    x = np.zeros(n)\n",
    "    for i in reversed(range(n)):\n",
    "        x[i] = (y[i] - np.dot(U[i, i+1:], x[i+1:])) / U[i, i]\n",
    "    return x"
   ]
  },
  {
   "cell_type": "code",
   "execution_count": 7,
   "id": "bc8714a9-e394-475d-bb56-785f72b3784d",
   "metadata": {},
   "outputs": [],
   "source": [
    "def lu_test_example(A, b):\n",
    "    L, U = lu_decomposition(A)\n",
    "\n",
    "    print(\"Matrix A:\")\n",
    "    print(A)\n",
    "    print(\"\\nLower Triangular Matrix L:\")\n",
    "    print(L)\n",
    "    print(\"\\nUpper Triangular Matrix U:\")\n",
    "    print(U)\n",
    "    \n",
    "    # Verify A = LU\n",
    "    A_reconstructed = L @ U\n",
    "    print(\"\\nReconstructed A (L @ U):\")\n",
    "    print(A_reconstructed)\n",
    "\n",
    "    # Compute Reconstruction Error\n",
    "    print(\"\\nReconstruction Error:\", np.linalg.norm(A - A_reconstructed))\n",
    "    \n",
    "    # Solve Ax = b\n",
    "    y = forward_substitution(L, b)\n",
    "    x = backward_substitution(U, y)\n",
    "    print(\"\\nSolution x to Ax = b:\")\n",
    "    print(x)\n",
    "    \n",
    "    # Verify solution\n",
    "    print(\"\\nCheck Ax:\")\n",
    "    print(A @ x)\n",
    "\n",
    "    # Compute solution error\n",
    "    b_hat = A @ x\n",
    "    sol_error = np.linalg.norm(b - b_hat)\n",
    "    print(\"Solution Accuracy (‖Ax - b‖):\", sol_error)"
   ]
  },
  {
   "cell_type": "markdown",
   "id": "adb0020f-c910-4a9a-8183-962c4bf18ba7",
   "metadata": {},
   "source": [
    "## Examples"
   ]
  },
  {
   "cell_type": "markdown",
   "id": "5747078b-9abd-427d-afe5-e17966d24c8d",
   "metadata": {},
   "source": [
    "### Example 1"
   ]
  },
  {
   "cell_type": "code",
   "execution_count": 10,
   "id": "7f05ed3f-45c2-4560-841e-2f1eec9d24d1",
   "metadata": {},
   "outputs": [],
   "source": [
    "# Example usage\n",
    "A_1 = np.array([[2.0, 3.0],\n",
    "              [4.0, 7.0]])\n",
    "\n",
    "b_1 = np.array([5.0, 13.0])"
   ]
  },
  {
   "cell_type": "code",
   "execution_count": 11,
   "id": "51f8e08d-c435-415c-be26-240fac17d2a4",
   "metadata": {},
   "outputs": [
    {
     "name": "stdout",
     "output_type": "stream",
     "text": [
      "Matrix A:\n",
      "[[2. 3.]\n",
      " [4. 7.]]\n",
      "\n",
      "Lower Triangular Matrix L:\n",
      "[[1. 0.]\n",
      " [2. 1.]]\n",
      "\n",
      "Upper Triangular Matrix U:\n",
      "[[2. 3.]\n",
      " [0. 1.]]\n",
      "\n",
      "Reconstructed A (L @ U):\n",
      "[[2. 3.]\n",
      " [4. 7.]]\n",
      "\n",
      "Reconstruction Error: 0.0\n",
      "\n",
      "Solution x to Ax = b:\n",
      "[-2.  3.]\n",
      "\n",
      "Check Ax:\n",
      "[ 5. 13.]\n",
      "Solution Accuracy (‖Ax - b‖): 0.0\n"
     ]
    }
   ],
   "source": [
    "lu_test_example(A_1, b_1)"
   ]
  },
  {
   "cell_type": "markdown",
   "id": "8d0b8a1f-1a5a-415e-b9c1-2214ad074077",
   "metadata": {},
   "source": [
    "### Example 2"
   ]
  },
  {
   "cell_type": "code",
   "execution_count": 13,
   "id": "dee5b6ad-fc9e-4591-9e4c-025af50bb450",
   "metadata": {},
   "outputs": [],
   "source": [
    "A_2 = np.array([[4.0, 3.0],\n",
    "               [6.0, 3.0]])\n",
    "b_2 = np.array([10.0, 12.0])"
   ]
  },
  {
   "cell_type": "code",
   "execution_count": 14,
   "id": "d0d84893-1782-499e-9562-cb592b90afe1",
   "metadata": {},
   "outputs": [
    {
     "name": "stdout",
     "output_type": "stream",
     "text": [
      "Matrix A:\n",
      "[[4. 3.]\n",
      " [6. 3.]]\n",
      "\n",
      "Lower Triangular Matrix L:\n",
      "[[1.  0. ]\n",
      " [1.5 1. ]]\n",
      "\n",
      "Upper Triangular Matrix U:\n",
      "[[ 4.   3. ]\n",
      " [ 0.  -1.5]]\n",
      "\n",
      "Reconstructed A (L @ U):\n",
      "[[4. 3.]\n",
      " [6. 3.]]\n",
      "\n",
      "Reconstruction Error: 0.0\n",
      "\n",
      "Solution x to Ax = b:\n",
      "[1. 2.]\n",
      "\n",
      "Check Ax:\n",
      "[10. 12.]\n",
      "Solution Accuracy (‖Ax - b‖): 0.0\n"
     ]
    }
   ],
   "source": [
    "lu_test_example(A_2, b_2)"
   ]
  },
  {
   "cell_type": "markdown",
   "id": "14bef26f-3154-42a4-a512-02ec02b752ca",
   "metadata": {},
   "source": [
    "### Example 3"
   ]
  },
  {
   "cell_type": "code",
   "execution_count": 16,
   "id": "7ab3e9eb-8e0d-451b-a2a5-c7f2a784b537",
   "metadata": {},
   "outputs": [],
   "source": [
    "A_3 = np.array([[1.0, 2.0, 4.0],\n",
    "               [3.0, 8.0, 14.0],\n",
    "               [2.0, 6.0, 13.0]])\n",
    "b_3 = np.array([3.0, 13.0, 17.0])"
   ]
  },
  {
   "cell_type": "code",
   "execution_count": 17,
   "id": "17a7d938-5105-4d07-a436-a62a6bba831d",
   "metadata": {},
   "outputs": [
    {
     "name": "stdout",
     "output_type": "stream",
     "text": [
      "Matrix A:\n",
      "[[ 1.  2.  4.]\n",
      " [ 3.  8. 14.]\n",
      " [ 2.  6. 13.]]\n",
      "\n",
      "Lower Triangular Matrix L:\n",
      "[[1. 0. 0.]\n",
      " [3. 1. 0.]\n",
      " [2. 1. 1.]]\n",
      "\n",
      "Upper Triangular Matrix U:\n",
      "[[1. 2. 4.]\n",
      " [0. 2. 2.]\n",
      " [0. 0. 3.]]\n",
      "\n",
      "Reconstructed A (L @ U):\n",
      "[[ 1.  2.  4.]\n",
      " [ 3.  8. 14.]\n",
      " [ 2.  6. 13.]]\n",
      "\n",
      "Reconstruction Error: 0.0\n",
      "\n",
      "Solution x to Ax = b:\n",
      "[-5.66666667 -0.33333333  2.33333333]\n",
      "\n",
      "Check Ax:\n",
      "[ 3. 13. 17.]\n",
      "Solution Accuracy (‖Ax - b‖): 3.66205343881779e-15\n"
     ]
    }
   ],
   "source": [
    "lu_test_example(A_3, b_3)"
   ]
  },
  {
   "cell_type": "markdown",
   "id": "31aa692a-911f-40c4-8ac7-8a8b9b76ce30",
   "metadata": {},
   "source": [
    "## 💹 Applications in Quantitative Finance\n",
    "\n",
    "LU decomposition is useful in many financial applications:\n",
    "\n",
    "### 1. Risk Modeling\n",
    "- Portfolio variance: $\\sigma^2 = w^T \\Sigma w$\n",
    "- LU decomposition is used to solve $\\Sigma x = w$\n",
    "\n",
    "### 2. Portfolio Optimization\n",
    "- In Mean-Variance Optimization:\n",
    "  $$\n",
    "  \\Sigma x = \\mu\n",
    "  $$\n",
    "- LU makes solving this efficient and stable\n",
    "\n",
    "### 3. Factor Models\n",
    "- Fitting models like $R = Bf + e$\n",
    "- LU helps invert or solve systems involving $B$ or $B^T B$\n",
    "\n",
    "### 4. Simulation Engines\n",
    "- Used in Monte Carlo simulations to apply correlation\n",
    "- Solve linear constraints efficiently"
   ]
  }
 ],
 "metadata": {
  "kernelspec": {
   "display_name": "Python 3 (ipykernel)",
   "language": "python",
   "name": "python3"
  },
  "language_info": {
   "codemirror_mode": {
    "name": "ipython",
    "version": 3
   },
   "file_extension": ".py",
   "mimetype": "text/x-python",
   "name": "python",
   "nbconvert_exporter": "python",
   "pygments_lexer": "ipython3",
   "version": "3.12.7"
  }
 },
 "nbformat": 4,
 "nbformat_minor": 5
}
