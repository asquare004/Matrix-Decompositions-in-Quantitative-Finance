{
 "cells": [
  {
   "cell_type": "raw",
   "id": "a76e1284-1b84-4c31-b0c0-da7dfdd5007c",
   "metadata": {},
   "source": [
    "📌 Problem Statement\n",
    "Matrix decompositions play a critical role in both theoretical and practical aspects of quantitative\n",
    "finance, from risk modeling and portfolio optimization to derivative pricing and numerical\n",
    "solutions to PDEs. This activity is designed to help you explore and implement four essential\n",
    "matrix decomposition techniques and understand their applications in quantitative finance."
   ]
  },
  {
   "cell_type": "markdown",
   "id": "311d81f0-40d4-4186-8de4-a0934fa2782f",
   "metadata": {},
   "source": [
    "The Cholesky Decomposition :"
   ]
  },
  {
   "cell_type": "markdown",
   "id": "352d0f62-b020-4b80-afe1-d9cb307bccd8",
   "metadata": {},
   "source": [
    "Theory\n",
    "Definition: Cholesky Decomposition is applicable to symmetric, positive-definite matrices, decomposing a matrix A into the product:\n",
    "A=LL^T\n",
    "where L is a lower triangular matrix."
   ]
  },
  {
   "cell_type": "raw",
   "id": "5db40cb8-c5a2-47a8-a6ef-cd7c9e25b9b9",
   "metadata": {},
   "source": [
    "Financial Applications\n",
    "Portfolio Optimization: Used in inverting large covariance matrices to find the optimal asset weights in mean-variance optimization.\n",
    "Monte Carlo Simulations: Simulating correlated asset paths using Cholesky decomposition of the covariance matrix."
   ]
  },
  {
   "cell_type": "raw",
   "id": "db97da97-4974-4d97-bcf1-d2f22f56f25c",
   "metadata": {},
   "source": [
    "This method is computationally efficient and numerically stable for large matrices with the required properties.\n",
    "Conditions:\n",
    "- Matrix A must be symmetric.\n",
    "- Matrix A must be positive-definite."
   ]
  },
  {
   "cell_type": "raw",
   "id": "888c1fb8-0617-41aa-8096-ca047acdb2fd",
   "metadata": {},
   "source": []
  },
  {
   "cell_type": "raw",
   "id": "3aa82ec4-384e-4870-98c6-b6c490af7957",
   "metadata": {},
   "source": [
    "implimentation"
   ]
  },
  {
   "cell_type": "code",
   "execution_count": 3,
   "id": "28562fed-7554-4d1f-b346-4eba7e7ef4b8",
   "metadata": {},
   "outputs": [],
   "source": [
    "import numpy as np\n",
    "import matplotlib.pyplot as plt"
   ]
  },
  {
   "cell_type": "raw",
   "id": "9cf340b8-c325-464d-b885-00e5850ad9e9",
   "metadata": {},
   "source": [
    "Computes the Cholesky decomposition of a symmetric, positive-definite matrix A.\n",
    "Return the lower triangular matrix L such that A = L @ lower triangle"
   ]
  },
  {
   "cell_type": "code",
   "execution_count": 4,
   "id": "b51f7006-c667-4a38-a2ee-ebd4686ede34",
   "metadata": {},
   "outputs": [],
   "source": [
    "def manual_cholesky(A):\n",
    "    n = A.shape[0]\n",
    "    L = np.zeros_like(A)\n",
    "    for i in range(n):\n",
    "        for j in range(i + 1):\n",
    "            sum_k = np.dot(L[i, :j], L[j, :j])\n",
    "            if i == j:\n",
    "                L[i, j] = np.sqrt(A[i, i] - sum_k)\n",
    "            else:\n",
    "                L[i, j] = (A[i, j] - sum_k) / L[j, j]\n",
    "    return L"
   ]
  },
  {
   "cell_type": "raw",
   "id": "c3113545-5431-44e6-b383-b7da53da9682",
   "metadata": {},
   "source": [
    "Examples with assertions"
   ]
  },
  {
   "cell_type": "code",
   "execution_count": 5,
   "id": "cced7fc9-e47b-414a-b04e-b2084116160a",
   "metadata": {},
   "outputs": [],
   "source": [
    "examples = [\n",
    "    np.array([[6, 3], [3, 2.1]])\n",
    "]"
   ]
  },
  {
   "cell_type": "code",
   "execution_count": 6,
   "id": "aa2735c8-d50d-4b59-a522-60bc90068727",
   "metadata": {},
   "outputs": [
    {
     "name": "stdout",
     "output_type": "stream",
     "text": [
      "Example 1 - Matrix A:\n",
      "[[6.  3. ]\n",
      " [3.  2.1]]\n"
     ]
    }
   ],
   "source": [
    "for idx, A in enumerate(examples, 1):\n",
    "    print(f\"Example {idx} - Matrix A:\")\n",
    "    print(A)"
   ]
  },
  {
   "cell_type": "raw",
   "id": "3e4d5546-b18d-497c-8d1d-9d6ff464a6f0",
   "metadata": {},
   "source": [
    "Perform Cholesky decomposition"
   ]
  },
  {
   "cell_type": "code",
   "execution_count": 7,
   "id": "05954f07-d4bd-41aa-9d0f-9b9d42f10222",
   "metadata": {},
   "outputs": [
    {
     "name": "stdout",
     "output_type": "stream",
     "text": [
      "Cholesky Lower Matrix L:\n",
      "[[2.44948974 0.        ]\n",
      " [1.22474487 0.77459667]]\n"
     ]
    }
   ],
   "source": [
    "L = manual_cholesky(A)\n",
    "print(\"Cholesky Lower Matrix L:\")\n",
    "print(L)"
   ]
  },
  {
   "cell_type": "raw",
   "id": "ad32972a-a61f-4e46-944f-dd7bfc5a30a9",
   "metadata": {},
   "source": [
    "Reconstruct A from L to verify correctness"
   ]
  },
  {
   "cell_type": "code",
   "execution_count": 8,
   "id": "bb0f767a-5b26-487e-911d-aca6f7857eb6",
   "metadata": {},
   "outputs": [
    {
     "name": "stdout",
     "output_type": "stream",
     "text": [
      "Reconstructed A (L @ lower tringle):\n",
      "[[6.  3. ]\n",
      " [3.  2.1]]\n"
     ]
    }
   ],
   "source": [
    "reconstructed_A = L @ L.T\n",
    "print(\"Reconstructed A (L @ lower tringle):\")\n",
    "print(reconstructed_A)"
   ]
  },
  {
   "cell_type": "raw",
   "id": "84eca659-8dff-4c94-a3a3-fc2bcf74a2a1",
   "metadata": {},
   "source": [
    "Check reconstruction accuracy"
   ]
  },
  {
   "cell_type": "code",
   "execution_count": 9,
   "id": "17998fb5-88cd-4b7d-9ba8-6ac4778bb697",
   "metadata": {},
   "outputs": [],
   "source": [
    "assert np.allclose(A, reconstructed_A), f\"Reconstruction failed for example {idx}\""
   ]
  },
  {
   "cell_type": "raw",
   "id": "c06c6c5c-1a9b-4881-9e9e-5c8634a8cf98",
   "metadata": {},
   "source": [
    "Visualize the matrix\n"
   ]
  },
  {
   "cell_type": "markdown",
   "id": "9a90523c-099c-481e-85ba-3db3a80f2555",
   "metadata": {},
   "source": [
    "plt.matshow(L, cmap='viridis') # Heatmap to visualize the L matrix (lower triangular structure)\n",
    "You could use a darker shade of colour at the lower triangular position and lighter shade of the same at the upper triangular version. That will be a much better representation ig.\n",
    "And you could also use higher dimension matrices (like say 8 cross 8 or 10 cross 10 or even higher) so that it becomes easier to understand.\n",
    "\n",
    "Heatmap is for visual understanding that the matrix L is L.T that is all non zero elements are in or below the main diagonal which is a main property of cholesky,\n",
    " and if some values are small and vary in scale it will help to highlight those ,\n",
    " and color intensity gives magnitude of each element in matrix."
   ]
  },
  {
   "cell_type": "code",
   "execution_count": 10,
   "id": "d1b4c808-5ee2-484e-a0bf-b0db9ee82cf8",
   "metadata": {},
   "outputs": [
    {
     "data": {
      "image/png": "[encoded data removed]",
      "text/plain": [
       "<Figure size 480x480 with 2 Axes>"
      ]
     },
     "metadata": {},
     "output_type": "display_data"
    }
   ],
   "source": [
    "plt.matshow(L, cmap='viridis')\n",
    "plt.title(f\"Cholesky Decomposition: L{idx} Matrix\")\n",
    "plt.colorbar()\n",
    "plt.show()"
   ]
  },
  {
   "cell_type": "raw",
   "id": "cfa5f165-e442-4fc0-bbf3-132e81015c9c",
   "metadata": {},
   "source": [
    "example 2"
   ]
  },
  {
   "cell_type": "code",
   "execution_count": 11,
   "id": "680f3131-1892-45b3-b419-e72bc7f36147",
   "metadata": {},
   "outputs": [],
   "source": [
    "examples = [\n",
    "    np.array([[25, 15, -5], [15, 18, 0], [-5, 0, 11]])\n",
    "]"
   ]
  },
  {
   "cell_type": "code",
   "execution_count": 12,
   "id": "bbc6e6cc-d820-4dbe-92da-632065dc7c0e",
   "metadata": {},
   "outputs": [
    {
     "name": "stdout",
     "output_type": "stream",
     "text": [
      "Example 2 - Matrix A:\n",
      "[[25 15 -5]\n",
      " [15 18  0]\n",
      " [-5  0 11]]\n"
     ]
    }
   ],
   "source": [
    "for idx, A in enumerate(examples, 2):\n",
    "    print(f\"Example {idx} - Matrix A:\")\n",
    "    print(A)"
   ]
  },
  {
   "cell_type": "code",
   "execution_count": 13,
   "id": "7143ef86-0ddb-4cda-b99b-a04ae7ecad6d",
   "metadata": {},
   "outputs": [
    {
     "name": "stdout",
     "output_type": "stream",
     "text": [
      "Cholesky Lower Matrix L:\n",
      "[[ 5  0  0]\n",
      " [ 3  3  0]\n",
      " [-1  1  3]]\n"
     ]
    }
   ],
   "source": [
    "L = manual_cholesky(A)\n",
    "print(\"Cholesky Lower Matrix L:\")\n",
    "print(L)"
   ]
  },
  {
   "cell_type": "code",
   "execution_count": 14,
   "id": "84ffafe8-c153-4717-bed5-ae49edab2f69",
   "metadata": {},
   "outputs": [
    {
     "name": "stdout",
     "output_type": "stream",
     "text": [
      "Reconstructed A (L @ lower tringle):\n",
      "[[25 15 -5]\n",
      " [15 18  0]\n",
      " [-5  0 11]]\n"
     ]
    }
   ],
   "source": [
    "reconstructed_A = L @ L.T\n",
    "print(\"Reconstructed A (L @ lower tringle):\")\n",
    "print(reconstructed_A)"
   ]
  },
  {
   "cell_type": "code",
   "execution_count": 15,
   "id": "97702f7f-5e13-419a-9ed7-0d3ea1adc3af",
   "metadata": {},
   "outputs": [],
   "source": [
    "assert np.allclose(A, reconstructed_A), f\"Reconstruction failed for example {idx}\""
   ]
  },
  {
   "cell_type": "code",
   "execution_count": 16,
   "id": "ae3d1bb4-4f29-42b5-b3eb-966119ce53f4",
   "metadata": {},
   "outputs": [
    {
     "data": {
      "image/png": "[encoded data removed]",
      "text/plain": [
       "<Figure size 480x480 with 2 Axes>"
      ]
     },
     "metadata": {},
     "output_type": "display_data"
    }
   ],
   "source": [
    "plt.matshow(L, cmap='viridis')\n",
    "plt.title(f\"Cholesky Decomposition: L{idx} Matrix\")\n",
    "plt.colorbar()\n",
    "plt.show()"
   ]
  },
  {
   "cell_type": "raw",
   "id": "748ef7e6-a269-4984-870a-b2dc332e5608",
   "metadata": {},
   "source": [
    "example 3"
   ]
  },
  {
   "cell_type": "code",
   "execution_count": 17,
   "id": "11f7add2-8b7c-4293-aa14-91ec5912b73c",
   "metadata": {},
   "outputs": [],
   "source": [
    "examples = [\n",
    "    np.array([[2.0, 0.5], [0.5, 1.0]])\n",
    "]"
   ]
  },
  {
   "cell_type": "code",
   "execution_count": 18,
   "id": "6cb54dc9-24b2-4677-a033-c05233065032",
   "metadata": {},
   "outputs": [
    {
     "name": "stdout",
     "output_type": "stream",
     "text": [
      "Example 3 - Matrix A:\n",
      "[[2.  0.5]\n",
      " [0.5 1. ]]\n",
      "\n",
      "Cholesky Lower Matrix L (such that A = L @ lt):\n",
      "[[1.41421356 0.        ]\n",
      " [0.35355339 0.93541435]]\n",
      "\n",
      "Reconstructed A (L @ L.T):\n",
      "[[2.  0.5]\n",
      " [0.5 1. ]]\n"
     ]
    },
    {
     "data": {
      "image/png": "[encoded data removed]",
      "text/plain": [
       "<Figure size 480x480 with 2 Axes>"
      ]
     },
     "metadata": {},
     "output_type": "display_data"
    }
   ],
   "source": [
    "for idx, A in enumerate(examples, 3):\n",
    "    print(f\"Example {idx} - Matrix A:\")\n",
    "    print(A)\n",
    "\n",
    "    #Perform Cholesky decomposition\n",
    "    L = manual_cholesky(A)\n",
    "    print(\"\\nCholesky Lower Matrix L (such that A = L @ lt):\")\n",
    "    print(L)\n",
    "\n",
    "    #Reconstruct A from L to verify correctness\n",
    "    \n",
    "    reconstructed_A = L @ L.T\n",
    "    print(\"\\nReconstructed A (L @ L.T):\")\n",
    "    print(reconstructed_A)\n",
    "\n",
    "    #Check reconstruction accuracy\n",
    "    \n",
    "    assert np.allclose(A, reconstructed_A), f\"Reconstruction failed for example {idx}\"\n",
    "\n",
    "    #Visualize the matrix\n",
    "    \n",
    "    plt.matshow(L, cmap='viridis')\n",
    "    plt.title(f\"Cholesky Decomposition: L{idx} Matrix\")\n",
    "    plt.colorbar()\n",
    "    plt.show()\n"
   ]
  },
  {
   "cell_type": "markdown",
   "id": "dec02f50-8cc4-437c-a85f-66408075f0f4",
   "metadata": {},
   "source": [
    "This method is a special case of LU decomposition, optimized for symmetric positive-definite matrices. It is often preferred for its numerical stability and efficiency."
   ]
  },
  {
   "cell_type": "markdown",
   "id": "2bb83575-e12b-466b-8254-34034a91d274",
   "metadata": {},
   "source": [
    "Computational Aspects:\n",
    "- Complexity: O(n³), but with reduced constants due to symmetry.\n",
    "- Faster than LU or QR for symmetric matrices.\n",
    "- Storage efficient: only the lower triangle needs to be stored or computed."
   ]
  },
  {
   "cell_type": "markdown",
   "id": "2e479997-9a0a-4d72-b24a-896af2e62e7a",
   "metadata": {},
   "source": [
    "Applications:\n",
    "- Portfolio optimization (inverting covariance matrices).\n",
    "- Monte Carlo simulation (correlated asset paths).\n",
    "- Efficient for solving large linear systems where covariance matrices are involved.\n",
    " (inverting covariance matrices).\n",
    "- Monte Carlo simulation (correlated asset paths)."
   ]
  }
 ],
 "metadata": {
  "kernelspec": {
   "display_name": "Python 3 (ipykernel)",
   "language": "python",
   "name": "python3"
  },
  "language_info": {
   "codemirror_mode": {
    "name": "ipython",
    "version": 3
   },
   "file_extension": ".py",
   "mimetype": "text/x-python",
   "name": "python",
   "nbconvert_exporter": "python",
   "pygments_lexer": "ipython3",
   "version": "3.12.4"
  }
 },
 "nbformat": 4,
 "nbformat_minor": 5
}
